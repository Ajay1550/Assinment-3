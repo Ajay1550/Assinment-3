{
 "cells": [
  {
   "cell_type": "code",
   "execution_count": 4,
   "metadata": {},
   "outputs": [
    {
     "name": "stdout",
     "output_type": "stream",
     "text": [
      "Original String :  The QUicK BroWN Fox\n",
      "No. of Upper case characters :  8\n",
      "No. of Lower case Characters :  8\n"
     ]
    }
   ],
   "source": [
    "#function that accepts a string and calculate the number of upper case letters and lower case letters.\n",
    "\n",
    "\n",
    "def string_test(string):\n",
    "    dict={\"UPPER_CASE\":0, \"LOWER_CASE\":0}\n",
    "    for char in string:\n",
    "        if char.isupper():\n",
    "            dict[\"UPPER_CASE\"]+=1\n",
    "        elif char.islower():\n",
    "            dict[\"LOWER_CASE\"]+=1\n",
    "        else:\n",
    "            pass\n",
    "\n",
    "    print (\"Original String : \", string)\n",
    "    print (\"No. of Upper case characters : \", dict[\"UPPER_CASE\"])\n",
    "    print (\"No. of Lower case Characters : \", dict[\"LOWER_CASE\"])\n",
    "string_test('The QUicK BroWN Fox')"
   ]
  },
  {
   "cell_type": "code",
   "execution_count": null,
   "metadata": {},
   "outputs": [],
   "source": []
  }
 ],
 "metadata": {
  "kernelspec": {
   "display_name": "Python 3",
   "language": "python",
   "name": "python3"
  },
  "language_info": {
   "codemirror_mode": {
    "name": "ipython",
    "version": 3
   },
   "file_extension": ".py",
   "mimetype": "text/x-python",
   "name": "python",
   "nbconvert_exporter": "python",
   "pygments_lexer": "ipython3",
   "version": "3.8.5"
  }
 },
 "nbformat": 4,
 "nbformat_minor": 4
}
